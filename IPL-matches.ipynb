{
 "cells": [
  {
   "cell_type": "markdown",
   "metadata": {
    "_cell_guid": "b1076dfc-b9ad-4769-8c92-a6c4dae69d19",
    "_uuid": "8f2839f25d086af736a60e9eeb907d3b93b6e0e5",
    "execution": {
     "iopub.execute_input": "2025-04-14T14:18:51.153716Z",
     "iopub.status.busy": "2025-04-14T14:18:51.152984Z",
     "iopub.status.idle": "2025-04-14T14:18:51.158043Z",
     "shell.execute_reply": "2025-04-14T14:18:51.156891Z",
     "shell.execute_reply.started": "2025-04-14T14:18:51.153686Z"
    }
   },
   "source": [
    "# Exploratory Data Analysis of IPL Matches(2008-2024)"
   ]
  },
  {
   "cell_type": "markdown",
   "metadata": {},
   "source": [
    "# 🏏 Indian Premier League (IPL) Data Analysis (2008–2024)\n",
    "\n",
    "## 📌 Overview\n",
    "The **Indian Premier League (IPL)** is India’s premier professional T20 cricket league, where city-based teams compete in high-intensity matches lasting about three hours.  \n",
    "\n",
    "This dataset spans **13 years of IPL history (2008–2024)** and contains rich details about matches, players, teams, and results.  \n",
    "It provides an excellent foundation to analyze cricket performance, uncover patterns, and explore factors that influence match outcomes.\n",
    "\n",
    "---\n",
    "\n",
    "## 📂 Dataset Description\n",
    "The dataset includes two CSV files:\n",
    "\n",
    "- **`deliveries.csv`** → Ball-by-ball details of every IPL match  \n",
    "- **`matches.csv`** → Match-level summaries (teams, venues, winners, etc.)\n",
    "\n",
    "---\n",
    "\n",
    "## 🎯 Objectives\n",
    "With this dataset, we aim to:\n",
    "\n",
    "- 📊 Examine **team performances** over the seasons  \n",
    "- 👤 Analyze **player statistics** and consistency  \n",
    "- 🏆 Study **match outcomes** and winning factors  \n",
    "- 📈 Explore **seasonal trends** across IPL history  \n",
    "\n",
    "---\n"
   ]
  },
  {
   "cell_type": "code",
   "execution_count": null,
   "metadata": {
    "execution": {
     "iopub.execute_input": "2025-04-20T07:07:54.838452Z",
     "iopub.status.busy": "2025-04-20T07:07:54.838105Z",
     "iopub.status.idle": "2025-04-20T07:07:54.847978Z",
     "shell.execute_reply": "2025-04-20T07:07:54.846937Z",
     "shell.execute_reply.started": "2025-04-20T07:07:54.838414Z"
    },
    "trusted": true
   },
   "outputs": [],
   "source": [
    "#ignoring warnings to keep the output clean\n",
    "import warnings\n",
    "warnings.filterwarnings('ignore')"
   ]
  },
  {
   "cell_type": "markdown",
   "metadata": {},
   "source": [
    "## Dataset Overview\n",
    "\n",
    "When starting data analysis, understanding your dataset thoroughly is essential before diving into deeper analysis."
   ]
  },
  {
   "cell_type": "code",
   "execution_count": null,
   "metadata": {
    "execution": {
     "iopub.execute_input": "2025-04-20T07:07:54.849429Z",
     "iopub.status.busy": "2025-04-20T07:07:54.849044Z",
     "iopub.status.idle": "2025-04-20T07:07:56.242311Z",
     "shell.execute_reply": "2025-04-20T07:07:56.241399Z",
     "shell.execute_reply.started": "2025-04-20T07:07:54.8494Z"
    },
    "trusted": true
   },
   "outputs": [],
   "source": [
    "import pandas as pd\n",
    "df=pd.read_csv('/kaggle/input/ipl-complete-dataset-20082020/matches.csv')\n",
    "df.head()"
   ]
  },
  {
   "cell_type": "code",
   "execution_count": null,
   "metadata": {
    "execution": {
     "iopub.execute_input": "2025-04-20T07:07:56.244687Z",
     "iopub.status.busy": "2025-04-20T07:07:56.244405Z",
     "iopub.status.idle": "2025-04-20T07:07:56.25002Z",
     "shell.execute_reply": "2025-04-20T07:07:56.248967Z",
     "shell.execute_reply.started": "2025-04-20T07:07:56.244665Z"
    },
    "trusted": true
   },
   "outputs": [],
   "source": [
    "#Knowing the number of rows and columns gives you a sense of the dataset's size and complexity.\n",
    "print(df.shape)\n"
   ]
  },
  {
   "cell_type": "code",
   "execution_count": null,
   "metadata": {
    "execution": {
     "iopub.execute_input": "2025-04-20T07:07:56.251573Z",
     "iopub.status.busy": "2025-04-20T07:07:56.251248Z",
     "iopub.status.idle": "2025-04-20T07:07:56.28078Z",
     "shell.execute_reply": "2025-04-20T07:07:56.279756Z",
     "shell.execute_reply.started": "2025-04-20T07:07:56.251543Z"
    },
    "trusted": true
   },
   "outputs": [],
   "source": [
    "# Column names tell you what variables you have to work with for your analysis.\n",
    "print(df.columns)\n"
   ]
  },
  {
   "cell_type": "code",
   "execution_count": null,
   "metadata": {
    "execution": {
     "iopub.execute_input": "2025-04-20T07:07:56.282546Z",
     "iopub.status.busy": "2025-04-20T07:07:56.281851Z",
     "iopub.status.idle": "2025-04-20T07:07:56.32359Z",
     "shell.execute_reply": "2025-04-20T07:07:56.322471Z",
     "shell.execute_reply.started": "2025-04-20T07:07:56.282509Z"
    },
    "trusted": true
   },
   "outputs": [],
   "source": [
    "#Different datatypes (integers, strings, dates) require different handling techniques.\n",
    "print(\"matches.csv-\\n\")\n",
    "print(df.info())\n",
    " "
   ]
  },
  {
   "cell_type": "code",
   "execution_count": null,
   "metadata": {
    "execution": {
     "iopub.execute_input": "2025-04-20T07:07:56.324832Z",
     "iopub.status.busy": "2025-04-20T07:07:56.324546Z",
     "iopub.status.idle": "2025-04-20T07:07:56.334827Z",
     "shell.execute_reply": "2025-04-20T07:07:56.334013Z",
     "shell.execute_reply.started": "2025-04-20T07:07:56.324809Z"
    },
    "trusted": true
   },
   "outputs": [],
   "source": [
    "#Percentages of Missing Values\n",
    "mi=df.isnull().sum().sort_values(ascending=False)/len(df)\n",
    "mi*100"
   ]
  },
  {
   "cell_type": "code",
   "execution_count": null,
   "metadata": {
    "execution": {
     "iopub.execute_input": "2025-04-20T07:07:56.336673Z",
     "iopub.status.busy": "2025-04-20T07:07:56.335987Z",
     "iopub.status.idle": "2025-04-20T07:07:56.806159Z",
     "shell.execute_reply": "2025-04-20T07:07:56.805094Z",
     "shell.execute_reply.started": "2025-04-20T07:07:56.33664Z"
    },
    "trusted": true
   },
   "outputs": [],
   "source": [
    "#only those colums which have missing values>0\n",
    "mi[mi!=0].plot(kind='barh')"
   ]
  },
  {
   "cell_type": "markdown",
   "metadata": {},
   "source": [
    "## Data Cleaning\n"
   ]
  },
  {
   "cell_type": "markdown",
   "metadata": {},
   "source": [
    "### Handling Inconsistent Data\n",
    "Teams might be referred to differently across records."
   ]
  },
  {
   "cell_type": "code",
   "execution_count": null,
   "metadata": {
    "execution": {
     "iopub.execute_input": "2025-04-20T07:07:56.807604Z",
     "iopub.status.busy": "2025-04-20T07:07:56.807349Z",
     "iopub.status.idle": "2025-04-20T07:07:56.820066Z",
     "shell.execute_reply": "2025-04-20T07:07:56.818971Z",
     "shell.execute_reply.started": "2025-04-20T07:07:56.807582Z"
    },
    "trusted": true
   },
   "outputs": [],
   "source": [
    "#check for duplicated rows\n",
    "df.duplicated().sum()"
   ]
  },
  {
   "cell_type": "code",
   "execution_count": null,
   "metadata": {
    "execution": {
     "iopub.execute_input": "2025-04-20T07:07:56.824356Z",
     "iopub.status.busy": "2025-04-20T07:07:56.823756Z",
     "iopub.status.idle": "2025-04-20T07:07:56.832099Z",
     "shell.execute_reply": "2025-04-20T07:07:56.831212Z",
     "shell.execute_reply.started": "2025-04-20T07:07:56.824318Z"
    },
    "trusted": true
   },
   "outputs": [],
   "source": [
    "# Check unique team names to identify inconsistencies\n",
    "print(\"Unique team1 values:\", df['team1'].unique())\n",
    "print(\"Unique team2 values:\", df['team2'].unique())\n",
    "print(\"Unique winner values:\", df['winner'].unique())\n",
    "print(\"Unique toss_winner values:\", df['toss_winner'].unique())"
   ]
  },
  {
   "cell_type": "code",
   "execution_count": null,
   "metadata": {
    "execution": {
     "iopub.execute_input": "2025-04-20T07:07:56.833576Z",
     "iopub.status.busy": "2025-04-20T07:07:56.833256Z",
     "iopub.status.idle": "2025-04-20T07:07:56.859016Z",
     "shell.execute_reply": "2025-04-20T07:07:56.857833Z",
     "shell.execute_reply.started": "2025-04-20T07:07:56.833547Z"
    },
    "trusted": true
   },
   "outputs": [],
   "source": [
    "# Creating a mapping for inconsistent team names\n",
    "team_name_mapping = {\n",
    "    'Rising Pune Supergiants': 'Rising Pune Supergiant',\n",
    "    'Delhi Daredevils': 'Delhi Capitals',     \n",
    "    'Deccan Chargers': 'Sunrisers Hyderabad',\n",
    "    'Kings XI Punjab': 'Punjab Kings',\n",
    "    'Royal Challengers Bengaluru': 'Royal Challengers Bangalore',\n",
    "}\n",
    "\n",
    "df['team1'] = df['team1'].replace(team_name_mapping)\n",
    "df['team2'] = df['team2'].replace(team_name_mapping)\n",
    "df['winner'] = df['winner'].replace(team_name_mapping)\n",
    "df['toss_winner'] = df['toss_winner'].replace(team_name_mapping)\n",
    "\n",
    "print(\"\\nUnique team1 values after standardization:\", df['team1'].unique())\n",
    "print(\"Unique team2 values after standardization:\", df['team2'].unique())\n",
    "print(\"Unique winner values after standardization:\", df['winner'].unique())\n",
    "print(\"Unique winner values after standardization:\", df['toss_winner'].unique())"
   ]
  },
  {
   "cell_type": "markdown",
   "metadata": {},
   "source": [
    "### Converting Data Types\n",
    "Proper data types improve analysis efficiency and enable time-series analysis."
   ]
  },
  {
   "cell_type": "code",
   "execution_count": null,
   "metadata": {
    "execution": {
     "iopub.execute_input": "2025-04-20T07:07:56.860078Z",
     "iopub.status.busy": "2025-04-20T07:07:56.859766Z",
     "iopub.status.idle": "2025-04-20T07:07:56.887415Z",
     "shell.execute_reply": "2025-04-20T07:07:56.886424Z",
     "shell.execute_reply.started": "2025-04-20T07:07:56.860049Z"
    },
    "trusted": true
   },
   "outputs": [],
   "source": [
    "import pandas as pd\n",
    "df['date'] = pd.to_datetime(df['date'], errors='coerce')\n",
    "df['season'] = pd.to_numeric(df['season'], errors='coerce')\n",
    "df['season'] = df['season'].fillna(0).astype(int)\n",
    "df.info()"
   ]
  },
  {
   "cell_type": "markdown",
   "metadata": {},
   "source": [
    "### Handling Missing or Null Values\n",
    "Missing data can skew the analysis results or cause errors in calculations."
   ]
  },
  {
   "cell_type": "code",
   "execution_count": null,
   "metadata": {
    "execution": {
     "iopub.execute_input": "2025-04-20T07:07:56.889066Z",
     "iopub.status.busy": "2025-04-20T07:07:56.888763Z",
     "iopub.status.idle": "2025-04-20T07:07:56.894895Z",
     "shell.execute_reply": "2025-04-20T07:07:56.894031Z",
     "shell.execute_reply.started": "2025-04-20T07:07:56.889033Z"
    },
    "trusted": true
   },
   "outputs": [],
   "source": [
    "#there are lot of null values in the method column\n",
    "#D/L is used for rain affected matches only\n",
    "#therefore we will fill 'regular' for all the other matches\n",
    "df['method'].fillna('regular', inplace=True)"
   ]
  },
  {
   "cell_type": "code",
   "execution_count": null,
   "metadata": {
    "execution": {
     "iopub.execute_input": "2025-04-20T07:07:56.896261Z",
     "iopub.status.busy": "2025-04-20T07:07:56.895966Z",
     "iopub.status.idle": "2025-04-20T07:07:56.91776Z",
     "shell.execute_reply": "2025-04-20T07:07:56.916875Z",
     "shell.execute_reply.started": "2025-04-20T07:07:56.896239Z"
    },
    "trusted": true
   },
   "outputs": [],
   "source": [
    "df.isnull().sum()"
   ]
  },
  {
   "cell_type": "code",
   "execution_count": null,
   "metadata": {
    "execution": {
     "iopub.execute_input": "2025-04-20T07:07:56.919221Z",
     "iopub.status.busy": "2025-04-20T07:07:56.918813Z",
     "iopub.status.idle": "2025-04-20T07:07:56.974001Z",
     "shell.execute_reply": "2025-04-20T07:07:56.973122Z",
     "shell.execute_reply.started": "2025-04-20T07:07:56.919181Z"
    },
    "trusted": true
   },
   "outputs": [],
   "source": [
    "df[df['city'].isnull()]"
   ]
  },
  {
   "cell_type": "code",
   "execution_count": null,
   "metadata": {
    "execution": {
     "iopub.execute_input": "2025-04-20T07:07:56.975319Z",
     "iopub.status.busy": "2025-04-20T07:07:56.974979Z",
     "iopub.status.idle": "2025-04-20T07:07:56.980536Z",
     "shell.execute_reply": "2025-04-20T07:07:56.979551Z",
     "shell.execute_reply.started": "2025-04-20T07:07:56.97529Z"
    },
    "trusted": true
   },
   "outputs": [],
   "source": [
    "#as the venue of the match is in Dubai\n",
    "df['city'].fillna('Dubai',inplace=True)"
   ]
  },
  {
   "cell_type": "code",
   "execution_count": null,
   "metadata": {
    "execution": {
     "iopub.execute_input": "2025-04-20T07:07:56.982053Z",
     "iopub.status.busy": "2025-04-20T07:07:56.981628Z",
     "iopub.status.idle": "2025-04-20T07:07:57.003801Z",
     "shell.execute_reply": "2025-04-20T07:07:57.002572Z",
     "shell.execute_reply.started": "2025-04-20T07:07:56.982029Z"
    },
    "trusted": true
   },
   "outputs": [],
   "source": [
    "df.isnull().sum()"
   ]
  },
  {
   "cell_type": "code",
   "execution_count": null,
   "metadata": {
    "execution": {
     "iopub.execute_input": "2025-04-20T07:07:57.005299Z",
     "iopub.status.busy": "2025-04-20T07:07:57.004892Z",
     "iopub.status.idle": "2025-04-20T07:07:57.041682Z",
     "shell.execute_reply": "2025-04-20T07:07:57.040334Z",
     "shell.execute_reply.started": "2025-04-20T07:07:57.005265Z"
    },
    "trusted": true
   },
   "outputs": [],
   "source": [
    "df[df['result_margin'].isnull()]"
   ]
  },
  {
   "cell_type": "code",
   "execution_count": null,
   "metadata": {
    "execution": {
     "iopub.execute_input": "2025-04-20T07:07:57.043316Z",
     "iopub.status.busy": "2025-04-20T07:07:57.042968Z",
     "iopub.status.idle": "2025-04-20T07:07:57.048874Z",
     "shell.execute_reply": "2025-04-20T07:07:57.04793Z",
     "shell.execute_reply.started": "2025-04-20T07:07:57.043289Z"
    },
    "trusted": true
   },
   "outputs": [],
   "source": [
    "#since all the were tie\n",
    "df['result_margin'].fillna(0, inplace=True)"
   ]
  },
  {
   "cell_type": "code",
   "execution_count": null,
   "metadata": {
    "execution": {
     "iopub.execute_input": "2025-04-20T07:07:57.051048Z",
     "iopub.status.busy": "2025-04-20T07:07:57.049935Z",
     "iopub.status.idle": "2025-04-20T07:07:57.071106Z",
     "shell.execute_reply": "2025-04-20T07:07:57.070208Z",
     "shell.execute_reply.started": "2025-04-20T07:07:57.05101Z"
    },
    "trusted": true
   },
   "outputs": [],
   "source": [
    "df.isnull().sum()"
   ]
  },
  {
   "cell_type": "code",
   "execution_count": null,
   "metadata": {
    "execution": {
     "iopub.execute_input": "2025-04-20T07:07:57.072485Z",
     "iopub.status.busy": "2025-04-20T07:07:57.072177Z",
     "iopub.status.idle": "2025-04-20T07:07:57.106739Z",
     "shell.execute_reply": "2025-04-20T07:07:57.105644Z",
     "shell.execute_reply.started": "2025-04-20T07:07:57.072458Z"
    },
    "trusted": true
   },
   "outputs": [],
   "source": [
    "df[df['winner'].isnull()]"
   ]
  },
  {
   "cell_type": "code",
   "execution_count": null,
   "metadata": {
    "execution": {
     "iopub.execute_input": "2025-04-20T07:07:57.108305Z",
     "iopub.status.busy": "2025-04-20T07:07:57.107972Z",
     "iopub.status.idle": "2025-04-20T07:07:57.12808Z",
     "shell.execute_reply": "2025-04-20T07:07:57.127065Z",
     "shell.execute_reply.started": "2025-04-20T07:07:57.108275Z"
    },
    "trusted": true
   },
   "outputs": [],
   "source": [
    "#as the player_of_match ,winner and result is missing so i will drop these rows \n",
    "df.drop([241,485,511,744,994], inplace=True)"
   ]
  },
  {
   "cell_type": "code",
   "execution_count": null,
   "metadata": {
    "execution": {
     "iopub.execute_input": "2025-04-20T07:07:57.129436Z",
     "iopub.status.busy": "2025-04-20T07:07:57.129089Z",
     "iopub.status.idle": "2025-04-20T07:07:57.154501Z",
     "shell.execute_reply": "2025-04-20T07:07:57.153155Z",
     "shell.execute_reply.started": "2025-04-20T07:07:57.129404Z"
    },
    "trusted": true
   },
   "outputs": [],
   "source": [
    "df.isnull().sum()"
   ]
  },
  {
   "cell_type": "markdown",
   "metadata": {},
   "source": [
    "## now we will clean data for deliveries.csv"
   ]
  },
  {
   "cell_type": "code",
   "execution_count": null,
   "metadata": {
    "execution": {
     "iopub.execute_input": "2025-04-20T07:07:57.156012Z",
     "iopub.status.busy": "2025-04-20T07:07:57.155669Z",
     "iopub.status.idle": "2025-04-20T07:07:58.383152Z",
     "shell.execute_reply": "2025-04-20T07:07:58.382114Z",
     "shell.execute_reply.started": "2025-04-20T07:07:57.155981Z"
    },
    "trusted": true
   },
   "outputs": [],
   "source": [
    "pf=pd.read_csv('/kaggle/input/ipl-complete-dataset-20082020/deliveries.csv')\n",
    "pf.head()"
   ]
  },
  {
   "cell_type": "code",
   "execution_count": null,
   "metadata": {
    "execution": {
     "iopub.execute_input": "2025-04-20T07:07:58.384408Z",
     "iopub.status.busy": "2025-04-20T07:07:58.384093Z",
     "iopub.status.idle": "2025-04-20T07:07:58.390845Z",
     "shell.execute_reply": "2025-04-20T07:07:58.389935Z",
     "shell.execute_reply.started": "2025-04-20T07:07:58.38438Z"
    },
    "trusted": true
   },
   "outputs": [],
   "source": [
    "pf.shape"
   ]
  },
  {
   "cell_type": "code",
   "execution_count": null,
   "metadata": {
    "execution": {
     "iopub.execute_input": "2025-04-20T07:07:58.392347Z",
     "iopub.status.busy": "2025-04-20T07:07:58.391977Z",
     "iopub.status.idle": "2025-04-20T07:07:58.532903Z",
     "shell.execute_reply": "2025-04-20T07:07:58.532198Z",
     "shell.execute_reply.started": "2025-04-20T07:07:58.392315Z"
    },
    "trusted": true
   },
   "outputs": [],
   "source": [
    "pf.info()"
   ]
  },
  {
   "cell_type": "code",
   "execution_count": null,
   "metadata": {
    "execution": {
     "iopub.execute_input": "2025-04-20T07:07:58.534445Z",
     "iopub.status.busy": "2025-04-20T07:07:58.534113Z",
     "iopub.status.idle": "2025-04-20T07:07:58.665564Z",
     "shell.execute_reply": "2025-04-20T07:07:58.664377Z",
     "shell.execute_reply.started": "2025-04-20T07:07:58.534415Z"
    },
    "trusted": true
   },
   "outputs": [],
   "source": [
    "m=pf.isnull().sum().sort_values(ascending=False)\n",
    "m"
   ]
  },
  {
   "cell_type": "code",
   "execution_count": null,
   "metadata": {
    "execution": {
     "iopub.execute_input": "2025-04-20T07:07:58.670968Z",
     "iopub.status.busy": "2025-04-20T07:07:58.670668Z",
     "iopub.status.idle": "2025-04-20T07:07:58.825889Z",
     "shell.execute_reply": "2025-04-20T07:07:58.824876Z",
     "shell.execute_reply.started": "2025-04-20T07:07:58.670946Z"
    },
    "trusted": true
   },
   "outputs": [],
   "source": [
    "#only those colums which have missing values>0\n",
    "m[m!=0].plot(kind='barh')"
   ]
  },
  {
   "cell_type": "code",
   "execution_count": null,
   "metadata": {
    "execution": {
     "iopub.execute_input": "2025-04-20T07:07:58.827249Z",
     "iopub.status.busy": "2025-04-20T07:07:58.826897Z",
     "iopub.status.idle": "2025-04-20T07:07:59.035255Z",
     "shell.execute_reply": "2025-04-20T07:07:59.034243Z",
     "shell.execute_reply.started": "2025-04-20T07:07:58.82722Z"
    },
    "trusted": true
   },
   "outputs": [],
   "source": [
    "#check for duplicated rows\n",
    "pf.duplicated().sum()"
   ]
  },
  {
   "cell_type": "code",
   "execution_count": null,
   "metadata": {
    "execution": {
     "iopub.execute_input": "2025-04-20T07:07:59.036561Z",
     "iopub.status.busy": "2025-04-20T07:07:59.036245Z",
     "iopub.status.idle": "2025-04-20T07:07:59.077472Z",
     "shell.execute_reply": "2025-04-20T07:07:59.076517Z",
     "shell.execute_reply.started": "2025-04-20T07:07:59.036538Z"
    },
    "trusted": true
   },
   "outputs": [],
   "source": [
    "# Check unique team names to identify inconsistencies\n",
    "print(\"Unique bowling_team values:\", pf['bowling_team'].unique())\n",
    "print(\"Unique batting_team values:\", pf['batting_team'].unique())"
   ]
  },
  {
   "cell_type": "code",
   "execution_count": null,
   "metadata": {
    "execution": {
     "iopub.execute_input": "2025-04-20T07:07:59.078896Z",
     "iopub.status.busy": "2025-04-20T07:07:59.078556Z",
     "iopub.status.idle": "2025-04-20T07:07:59.228523Z",
     "shell.execute_reply": "2025-04-20T07:07:59.227578Z",
     "shell.execute_reply.started": "2025-04-20T07:07:59.078869Z"
    },
    "trusted": true
   },
   "outputs": [],
   "source": [
    "# Creating a mapping for inconsistent team names\n",
    "team_name_mapping = {\n",
    "    'Rising Pune Supergiants': 'Rising Pune Supergiant',\n",
    "    'Delhi Daredevils': 'Delhi Capitals',     \n",
    "    'Deccan Chargers': 'Sunrisers Hyderabad',\n",
    "    'Kings XI Punjab': 'Punjab Kings',\n",
    "}\n",
    "\n",
    "pf['bowling_team']=pf['bowling_team'].replace(team_name_mapping)\n",
    "pf['batting_team'] = pf['batting_team'].replace(team_name_mapping)\n",
    "\n",
    "print(\"\\nUnique bowling_team values after standardization:\", pf['bowling_team'].unique())\n",
    "print(\"Unique batting_team values after standardization:\", pf['batting_team'].unique())\n"
   ]
  },
  {
   "cell_type": "code",
   "execution_count": null,
   "metadata": {
    "execution": {
     "iopub.execute_input": "2025-04-20T07:07:59.229809Z",
     "iopub.status.busy": "2025-04-20T07:07:59.229502Z",
     "iopub.status.idle": "2025-04-20T07:07:59.33082Z",
     "shell.execute_reply": "2025-04-20T07:07:59.329551Z",
     "shell.execute_reply.started": "2025-04-20T07:07:59.229783Z"
    },
    "trusted": true
   },
   "outputs": [],
   "source": [
    "# as these columns are only populated for specific events\n",
    "columns_to_fill = ['dismissal_kind', 'player_dismissed', 'fielder', 'extras_type']\n",
    "pf[columns_to_fill] = pf[columns_to_fill].fillna('NA')"
   ]
  },
  {
   "cell_type": "code",
   "execution_count": null,
   "metadata": {
    "execution": {
     "iopub.execute_input": "2025-04-20T07:07:59.332211Z",
     "iopub.status.busy": "2025-04-20T07:07:59.331844Z",
     "iopub.status.idle": "2025-04-20T07:07:59.483356Z",
     "shell.execute_reply": "2025-04-20T07:07:59.482533Z",
     "shell.execute_reply.started": "2025-04-20T07:07:59.332178Z"
    },
    "trusted": true
   },
   "outputs": [],
   "source": [
    "pf.isnull().sum()\n",
    "#no missing data"
   ]
  },
  {
   "cell_type": "markdown",
   "metadata": {},
   "source": [
    "# Exploratory Analysis and Visualization"
   ]
  },
  {
   "cell_type": "code",
   "execution_count": null,
   "metadata": {
    "execution": {
     "iopub.execute_input": "2025-04-20T07:07:59.484596Z",
     "iopub.status.busy": "2025-04-20T07:07:59.484302Z",
     "iopub.status.idle": "2025-04-20T07:07:59.513784Z",
     "shell.execute_reply": "2025-04-20T07:07:59.512929Z",
     "shell.execute_reply.started": "2025-04-20T07:07:59.484572Z"
    },
    "trusted": true
   },
   "outputs": [],
   "source": [
    "df.describe()"
   ]
  },
  {
   "cell_type": "code",
   "execution_count": null,
   "metadata": {
    "execution": {
     "iopub.execute_input": "2025-04-20T07:07:59.515012Z",
     "iopub.status.busy": "2025-04-20T07:07:59.514749Z",
     "iopub.status.idle": "2025-04-20T07:07:59.595327Z",
     "shell.execute_reply": "2025-04-20T07:07:59.594353Z",
     "shell.execute_reply.started": "2025-04-20T07:07:59.514992Z"
    },
    "trusted": true
   },
   "outputs": [],
   "source": [
    "pf.describe()"
   ]
  },
  {
   "cell_type": "markdown",
   "metadata": {},
   "source": [
    "## 1.Total Matches Played"
   ]
  },
  {
   "cell_type": "code",
   "execution_count": null,
   "metadata": {
    "execution": {
     "iopub.execute_input": "2025-04-20T07:07:59.596673Z",
     "iopub.status.busy": "2025-04-20T07:07:59.596327Z",
     "iopub.status.idle": "2025-04-20T07:08:00.677442Z",
     "shell.execute_reply": "2025-04-20T07:08:00.676585Z",
     "shell.execute_reply.started": "2025-04-20T07:07:59.596645Z"
    },
    "trusted": true
   },
   "outputs": [],
   "source": [
    "import matplotlib.pyplot as plt\n",
    "import seaborn as sns\n",
    "total_matches = len(pf)\n",
    "\n",
    "import matplotlib.pyplot as plt\n",
    "\n",
    "fig, ax = plt.subplots(figsize=(3, 3))\n",
    "ax.text(0.5, 0.5, f\"{total_matches}\\nMatches Played\", fontsize=20, ha='center', va='center', color=\"#006400\")\n",
    "ax.axis('off')\n",
    "plt.show()"
   ]
  },
  {
   "cell_type": "markdown",
   "metadata": {},
   "source": [
    "## 2.Matches Per Season"
   ]
  },
  {
   "cell_type": "code",
   "execution_count": null,
   "metadata": {
    "execution": {
     "iopub.execute_input": "2025-04-20T07:08:00.679061Z",
     "iopub.status.busy": "2025-04-20T07:08:00.678506Z",
     "iopub.status.idle": "2025-04-20T07:08:00.908289Z",
     "shell.execute_reply": "2025-04-20T07:08:00.907335Z",
     "shell.execute_reply.started": "2025-04-20T07:08:00.678999Z"
    },
    "trusted": true
   },
   "outputs": [],
   "source": [
    "df = df[df['season'] != 0]\n",
    "matches_per_season = df.groupby('season')['id'].count()\n",
    "matches_per_season.plot(kind='bar', title='Matches per Season', xlabel='Season', ylabel='Number of Matches', color='green')\n",
    "plt.show()\n"
   ]
  },
  {
   "cell_type": "markdown",
   "metadata": {},
   "source": [
    "## 3. Total teams"
   ]
  },
  {
   "cell_type": "code",
   "execution_count": null,
   "metadata": {
    "execution": {
     "iopub.execute_input": "2025-04-20T07:08:00.909601Z",
     "iopub.status.busy": "2025-04-20T07:08:00.909351Z",
     "iopub.status.idle": "2025-04-20T07:08:00.916505Z",
     "shell.execute_reply": "2025-04-20T07:08:00.915527Z",
     "shell.execute_reply.started": "2025-04-20T07:08:00.909582Z"
    },
    "trusted": true
   },
   "outputs": [],
   "source": [
    "teams = pd.unique(df['team1'].tolist() + df['team2'].tolist())\n",
    "print(\"Total unique teams:\", len(teams))"
   ]
  },
  {
   "cell_type": "markdown",
   "metadata": {},
   "source": [
    "## 4.Most Wins"
   ]
  },
  {
   "cell_type": "code",
   "execution_count": null,
   "metadata": {
    "execution": {
     "iopub.execute_input": "2025-04-20T07:08:00.918218Z",
     "iopub.status.busy": "2025-04-20T07:08:00.91786Z",
     "iopub.status.idle": "2025-04-20T07:08:01.1679Z",
     "shell.execute_reply": "2025-04-20T07:08:01.166896Z",
     "shell.execute_reply.started": "2025-04-20T07:08:00.918197Z"
    },
    "trusted": true
   },
   "outputs": [],
   "source": [
    "most_wins = df['winner'].value_counts()\n",
    "most_wins.plot(kind='bar', title='Most Wins', xlabel='Teams', ylabel='Wins', color='orange')\n",
    "plt.show()"
   ]
  },
  {
   "cell_type": "markdown",
   "metadata": {},
   "source": [
    "## 5. Top Venues"
   ]
  },
  {
   "cell_type": "code",
   "execution_count": null,
   "metadata": {
    "execution": {
     "iopub.execute_input": "2025-04-20T07:08:01.169188Z",
     "iopub.status.busy": "2025-04-20T07:08:01.168882Z",
     "iopub.status.idle": "2025-04-20T07:08:01.38048Z",
     "shell.execute_reply": "2025-04-20T07:08:01.379504Z",
     "shell.execute_reply.started": "2025-04-20T07:08:01.169158Z"
    },
    "trusted": true
   },
   "outputs": [],
   "source": [
    "top_venues = df['venue'].value_counts().head(10)\n",
    "top_venues.plot(kind='barh', title='Top 10 Venues', xlabel='Number of Matches', color='green')\n",
    "plt.show()\n"
   ]
  },
  {
   "cell_type": "markdown",
   "metadata": {},
   "source": [
    "## 6.Team-wise Performance Per Season"
   ]
  },
  {
   "cell_type": "code",
   "execution_count": null,
   "metadata": {
    "execution": {
     "iopub.execute_input": "2025-04-20T07:08:01.38241Z",
     "iopub.status.busy": "2025-04-20T07:08:01.381556Z",
     "iopub.status.idle": "2025-04-20T07:08:02.00618Z",
     "shell.execute_reply": "2025-04-20T07:08:02.00503Z",
     "shell.execute_reply.started": "2025-04-20T07:08:01.382377Z"
    },
    "trusted": true
   },
   "outputs": [],
   "source": [
    "wins = df.groupby(['season', 'winner']).size().unstack().fillna(0)\n",
    "wins.plot(kind='bar', stacked=True, figsize=(14,6), colormap='tab20')\n",
    "plt.title('Team-wise Performance Per Season')\n",
    "plt.xlabel('Season')\n",
    "plt.ylabel('Number of Wins')\n",
    "plt.legend(loc='center left', bbox_to_anchor=(1.0, 0.5))\n",
    "plt.tight_layout()\n",
    "plt.show()\n"
   ]
  },
  {
   "cell_type": "markdown",
   "metadata": {},
   "source": [
    "## 7.Toss Winner vs Match Winner"
   ]
  },
  {
   "cell_type": "code",
   "execution_count": null,
   "metadata": {
    "execution": {
     "iopub.execute_input": "2025-04-20T07:08:02.007503Z",
     "iopub.status.busy": "2025-04-20T07:08:02.007223Z",
     "iopub.status.idle": "2025-04-20T07:08:02.186832Z",
     "shell.execute_reply": "2025-04-20T07:08:02.186082Z",
     "shell.execute_reply.started": "2025-04-20T07:08:02.007485Z"
    },
    "trusted": true
   },
   "outputs": [],
   "source": [
    "toss_match = df['toss_winner'] == df['winner']\n",
    "data = toss_match.value_counts().rename({True: 'Yes', False: 'No'}).to_frame(name='Count')\n",
    "\n",
    "sns.heatmap(data, annot=True, fmt='d', cmap='YlGnBu')\n",
    "plt.title('Did Toss Winner Also Win the Match?')\n",
    "plt.xlabel('Result')\n",
    "plt.ylabel('')\n",
    "plt.show()\n",
    "\n",
    "\n"
   ]
  },
  {
   "cell_type": "markdown",
   "metadata": {},
   "source": [
    "## 8.Most wins by teams at each venue"
   ]
  },
  {
   "cell_type": "code",
   "execution_count": null,
   "metadata": {
    "execution": {
     "iopub.execute_input": "2025-04-20T07:08:02.188036Z",
     "iopub.status.busy": "2025-04-20T07:08:02.187718Z",
     "iopub.status.idle": "2025-04-20T07:08:03.271606Z",
     "shell.execute_reply": "2025-04-20T07:08:03.270665Z",
     "shell.execute_reply.started": "2025-04-20T07:08:02.188017Z"
    },
    "trusted": true
   },
   "outputs": [],
   "source": [
    "venue_team_wins = df.groupby(['venue', 'winner']).size().unstack(fill_value=0)\n",
    "\n",
    "plt.figure(figsize=(20, 15))\n",
    "sns.heatmap(venue_team_wins, cmap='coolwarm', linewidths=0.5)\n",
    "plt.title('Team Dominance at Different Venues')\n",
    "plt.xlabel('Teams')\n",
    "plt.ylabel('Venues')\n",
    "plt.tight_layout()\n",
    "plt.show()\n"
   ]
  },
  {
   "cell_type": "markdown",
   "metadata": {},
   "source": [
    "## 9. Top Scorers"
   ]
  },
  {
   "cell_type": "code",
   "execution_count": null,
   "metadata": {
    "execution": {
     "iopub.execute_input": "2025-04-20T07:08:03.272804Z",
     "iopub.status.busy": "2025-04-20T07:08:03.272548Z",
     "iopub.status.idle": "2025-04-20T07:08:03.506795Z",
     "shell.execute_reply": "2025-04-20T07:08:03.5058Z",
     "shell.execute_reply.started": "2025-04-20T07:08:03.272784Z"
    },
    "trusted": true
   },
   "outputs": [],
   "source": [
    "top_scorers = pf.groupby('batter')['batsman_runs'].sum().sort_values(ascending=False).head(10)\n",
    "\n",
    "plt.figure(figsize=(10, 6))\n",
    "sns.barplot(x=top_scorers.values, y=top_scorers.index, palette='magma')\n",
    "plt.title('Top 10 Run-Scorers in IPL')\n",
    "plt.xlabel('Total Runs')\n",
    "plt.ylabel('Batsman')\n",
    "plt.show()\n"
   ]
  },
  {
   "cell_type": "markdown",
   "metadata": {},
   "source": [
    "## 10.Player of the match"
   ]
  },
  {
   "cell_type": "code",
   "execution_count": null,
   "metadata": {
    "execution": {
     "iopub.execute_input": "2025-04-20T07:11:09.027337Z",
     "iopub.status.busy": "2025-04-20T07:11:09.026895Z",
     "iopub.status.idle": "2025-04-20T07:11:09.248287Z",
     "shell.execute_reply": "2025-04-20T07:11:09.247172Z",
     "shell.execute_reply.started": "2025-04-20T07:11:09.027305Z"
    },
    "trusted": true
   },
   "outputs": [],
   "source": [
    "p = df['player_of_match'].value_counts().head(10)\n",
    "\n",
    "plt.figure(figsize=(10, 6))\n",
    "sns.barplot(x=p.index, y=p.values, palette='crest')\n",
    "plt.title('Top 10 Player of the Match Winners')\n",
    "plt.xlabel('Player')\n",
    "plt.ylabel('Number of Awards')\n",
    "plt.show()\n"
   ]
  },
  {
   "cell_type": "markdown",
   "metadata": {},
   "source": [
    "# Asking and Answering Questions"
   ]
  },
  {
   "cell_type": "markdown",
   "metadata": {},
   "source": [
    "### 1. Who took the most wicket?"
   ]
  },
  {
   "cell_type": "code",
   "execution_count": null,
   "metadata": {
    "execution": {
     "iopub.execute_input": "2025-04-20T07:29:31.545363Z",
     "iopub.status.busy": "2025-04-20T07:29:31.544121Z",
     "iopub.status.idle": "2025-04-20T07:29:31.95639Z",
     "shell.execute_reply": "2025-04-20T07:29:31.955229Z",
     "shell.execute_reply.started": "2025-04-20T07:29:31.545316Z"
    },
    "trusted": true
   },
   "outputs": [],
   "source": [
    "wickets = pf[pf['dismissal_kind'].notna()]\n",
    "most_wickets = wickets['bowler'].value_counts().head(10)\n",
    "\n",
    "plt.figure(figsize=(10, 6))\n",
    "sns.barplot(x=most_wickets.values, y=most_wickets.index, palette='coolwarm')\n",
    "plt.title('Top 10 Bowlers with Most Wickets')\n",
    "plt.xlabel('Number of Wickets')\n",
    "plt.ylabel('Bowler')\n",
    "plt.show()\n"
   ]
  },
  {
   "cell_type": "markdown",
   "metadata": {},
   "source": [
    "> We can see that R ashwin took the most wickets"
   ]
  },
  {
   "cell_type": "markdown",
   "metadata": {},
   "source": [
    "## 2. Who hit the most sixes?"
   ]
  },
  {
   "cell_type": "code",
   "execution_count": null,
   "metadata": {
    "execution": {
     "iopub.execute_input": "2025-04-20T07:39:36.69909Z",
     "iopub.status.busy": "2025-04-20T07:39:36.698154Z",
     "iopub.status.idle": "2025-04-20T07:39:36.920368Z",
     "shell.execute_reply": "2025-04-20T07:39:36.919463Z",
     "shell.execute_reply.started": "2025-04-20T07:39:36.699052Z"
    },
    "trusted": true
   },
   "outputs": [],
   "source": [
    "sixes = pf[pf['batsman_runs'] == 6]\n",
    "most_sixes = sixes['batter'].value_counts().head(10)\n",
    "\n",
    "plt.figure(figsize=(10, 6))\n",
    "sns.barplot(x=most_sixes.values, y=most_sixes.index, palette='YlOrBr')\n",
    "plt.title('Top 10 Batsmen with Most Sixes')\n",
    "plt.xlabel('Number of Sixes')\n",
    "plt.ylabel('Batsman')\n",
    "plt.show()\n"
   ]
  },
  {
   "cell_type": "markdown",
   "metadata": {},
   "source": [
    "> We can see that CH Gayle hit the most sixes."
   ]
  },
  {
   "cell_type": "markdown",
   "metadata": {},
   "source": [
    "## 3.Does playing on the home ground provide an advantage?"
   ]
  },
  {
   "cell_type": "code",
   "execution_count": null,
   "metadata": {
    "execution": {
     "iopub.execute_input": "2025-04-20T07:48:01.273221Z",
     "iopub.status.busy": "2025-04-20T07:48:01.272825Z",
     "iopub.status.idle": "2025-04-20T07:48:01.603499Z",
     "shell.execute_reply": "2025-04-20T07:48:01.602431Z",
     "shell.execute_reply.started": "2025-04-20T07:48:01.273195Z"
    },
    "trusted": true
   },
   "outputs": [],
   "source": [
    "team_home_venues = {\n",
    "    'Chennai Super Kings': 'MA Chidambaram Stadium, Chepauk',\n",
    "    'Mumbai Indians': 'Wankhede Stadium',\n",
    "    'Royal Challengers Bangalore': 'M Chinnaswamy Stadium',\n",
    "    'Kolkata Knight Riders': 'Eden Gardens',\n",
    "    'Delhi Capitals': 'Feroz Shah Kotla',\n",
    "    'Sunrisers Hyderabad': 'Rajiv Gandhi International Stadium, Uppal',\n",
    "    'Rajasthan Royals': 'Sawai Mansingh Stadium',\n",
    "    'Kings XI Punjab': 'Punjab Cricket Association Stadium, Mohali',\n",
    "    'Deccan Chargers': 'Rajiv Gandhi International Stadium, Uppal',\n",
    "    'Pune Warriors': 'Subrata Roy Sahara Stadium',\n",
    "    'Gujarat Lions': 'Saurashtra Cricket Association Stadium',\n",
    "    'Rising Pune Supergiant': 'Maharashtra Cricket Association Stadium',\n",
    "    'Lucknow Super Giants': 'BRSABV Ekana Cricket Stadium',\n",
    "    'Gujarat Titans': 'Narendra Modi Stadium'\n",
    "}\n",
    "\n",
    "df['home_venue'] = df['team1'].map(team_home_venues)\n",
    "\n",
    "home_matches = df[df['venue'] == df['home_venue']]\n",
    "home_wins = home_matches[home_matches['winner'] == home_matches['team1']]\n",
    "\n",
    "\n",
    "away_matches = home_matches.copy()\n",
    "away_matches = away_matches[away_matches['winner'] == away_matches['team2']]\n",
    "\n",
    "\n",
    "home_games = home_matches['team1'].value_counts()\n",
    "away_games = home_matches['team2'].value_counts()\n",
    "\n",
    "\n",
    "home_win_counts = home_wins['winner'].value_counts()\n",
    "away_win_counts = away_matches['winner'].value_counts()\n",
    "\n",
    "\n",
    "home_win_percent = (home_win_counts / home_games * 100).dropna().sort_values(ascending=False)\n",
    "away_win_percent = (away_win_counts / away_games * 100).dropna().sort_values(ascending=False)\n",
    "\n",
    "\n",
    "comparison_df = pd.DataFrame({\n",
    "    'Home Win %': home_win_percent,\n",
    "    'Away Win %': away_win_percent\n",
    "}).fillna(0).sort_values('Home Win %', ascending=False)\n",
    "\n",
    "\n",
    "comparison_df.head(10).plot(kind='bar', figsize=(12, 6), colormap='Set2')\n",
    "plt.title('Home vs Away Win Percentage (Top Teams)')\n",
    "plt.xlabel('Team')\n",
    "plt.ylabel('Win Percentage')\n",
    "plt.xticks(rotation=45)\n",
    "plt.grid(True)\n",
    "plt.show()\n"
   ]
  },
  {
   "cell_type": "markdown",
   "metadata": {},
   "source": [
    "> Home ground wins are consistently high for major teams across seasons.\n",
    "> However, this doesn't guarantee victory — better overall team performance, form, and match conditions still play big roles.\n"
   ]
  },
  {
   "cell_type": "markdown",
   "metadata": {},
   "source": [
    "## 4.How many Super Overs have been played?\n",
    "\n",
    "\n"
   ]
  },
  {
   "cell_type": "code",
   "execution_count": null,
   "metadata": {
    "execution": {
     "iopub.execute_input": "2025-04-20T07:52:15.574Z",
     "iopub.status.busy": "2025-04-20T07:52:15.573256Z",
     "iopub.status.idle": "2025-04-20T07:52:15.789117Z",
     "shell.execute_reply": "2025-04-20T07:52:15.788022Z",
     "shell.execute_reply.started": "2025-04-20T07:52:15.573967Z"
    },
    "trusted": true
   },
   "outputs": [],
   "source": [
    "super_overs = df[df['result'] == 'tie']\n",
    "\n",
    "plt.figure(figsize=(6, 4))\n",
    "sns.countplot(x='season', data=super_overs, palette='Set2')\n",
    "plt.title('Number of Super Overs per Season')\n",
    "plt.xlabel('Season')\n",
    "plt.ylabel('Super Overs')\n",
    "plt.xticks(rotation=45)\n",
    "plt.show()\n",
    "\n",
    "print(\"Total Super Over Matches:\", super_overs.shape[0])\n"
   ]
  },
  {
   "cell_type": "markdown",
   "metadata": {},
   "source": [
    "## 5.What is the average number of runs scored per over?"
   ]
  },
  {
   "cell_type": "code",
   "execution_count": null,
   "metadata": {
    "execution": {
     "iopub.execute_input": "2025-04-20T07:55:10.772661Z",
     "iopub.status.busy": "2025-04-20T07:55:10.772359Z",
     "iopub.status.idle": "2025-04-20T07:55:11.056336Z",
     "shell.execute_reply": "2025-04-20T07:55:11.055317Z",
     "shell.execute_reply.started": "2025-04-20T07:55:10.772637Z"
    },
    "trusted": true
   },
   "outputs": [],
   "source": [
    "runs_per_over = pf.groupby('over')['total_runs'].mean()\n",
    "\n",
    "plt.figure(figsize=(10, 6))\n",
    "sns.lineplot(x=runs_per_over.index, y=runs_per_over.values, marker='o', color='purple')\n",
    "plt.title('Average Runs Scored Per Over')\n",
    "plt.xlabel('Over Number')\n",
    "plt.ylabel('Average Runs')\n",
    "plt.xticks(range(1, 21))\n",
    "plt.grid(True)\n",
    "plt.show()\n"
   ]
  },
  {
   "cell_type": "markdown",
   "metadata": {},
   "source": [
    "### 📌 Inferences and Conclusion  \n",
    "\n",
    "After conducting Exploratory Data Analysis (EDA) on the IPL dataset (2008–2024), the following key findings emerged:\n",
    "\n",
    "---\n",
    "\n",
    "#### 🔢 General Statistics\n",
    "- The dataset covers **260,920 deliveries** across **14 seasons** and involves **14 different teams**.  \n",
    "- The **number of matches per season** has steadily grown, reflecting the tournament’s rising popularity and expansion.  \n",
    "\n",
    "---\n",
    "\n",
    "#### 🏆 Performance Highlights\n",
    "- **Mumbai Indians (MI)** stand out as the **most successful team**, with the highest number of wins.  \n",
    "- Venues such as **Wankhede Stadium** have hosted the **largest share of matches**, cementing their place as iconic IPL grounds.  \n",
    "- **AB de Villiers** has earned the **most Player of the Match awards**, underlining his game-changing ability.  \n",
    "- **Virat Kohli** ranks as the **leading run-scorer** in IPL history.  \n",
    "- **Chris Gayle** holds the record for the **most sixes**, showcasing the explosive nature of T20 batting.  \n",
    "\n",
    "---\n",
    "\n",
    "#### 📍 Venue-based Insights\n",
    "- Teams like **Chennai Super Kings (CSK)** and **Mumbai Indians (MI)** have excelled at their **home venues**, suggesting a strong **home-ground advantage**.  \n",
    "\n",
    "---\n",
    "\n",
    "#### 🧠 Key Questions Explored\n",
    "- **Does home-ground advantage matter?**  \n",
    "  ✅ Yes. Teams generally perform better at home, likely due to pitch familiarity and crowd support.  \n",
    "\n",
    "- **How many super overs have occurred?**  \n",
    "  ➡️ A total of **9 super overs**, highlighting the competitiveness of close matches.  \n",
    "\n",
    "- **What is the average scoring rate per over?**  \n",
    "  ➡️ Run rates differ across match phases:  \n",
    "    - **Powerplay (1–6 overs):** Fast but calculated  \n",
    "    - **Middle overs (7–15):** Moderate pace  \n",
    "    - **Death overs (16–20):** Peak scoring with aggressive hitting  \n",
    "\n",
    "---\n",
    "\n",
    "#### 📈 Trends Over Seasons\n",
    "- Team performance has been **cyclical**, with some franchises dominating for a few years before declining.  \n",
    "- Winning the **toss** does not ensure victory, but it often shapes **strategic choices** such as batting or bowling first.  \n",
    "\n",
    "---\n",
    "\n",
    "✅ Overall, the IPL has evolved into one of the **most competitive and dynamic cricket leagues globally**, with iconic players, teams, and venues shaping its legacy.  \n"
   ]
  },
  {
   "cell_type": "markdown",
   "metadata": {},
   "source": [
    "### 📘 Things I Learned  \n",
    "\n",
    "1. Gained practical experience in **cleaning and preprocessing real-world cricket data** using Pandas.  \n",
    "2. Learned how to **group, aggregate, and merge datasets** to derive team-level and player-level insights.  \n",
    "3. Enhanced skills in **data visualization** with Matplotlib and Seaborn.  \n",
    "4. Created **informative plots** (bar charts, heatmaps, etc.) to reveal patterns and trends.  \n",
    "5. Explored **team performance trends** across seasons and venues.  \n",
    "6. Analyzed how **toss outcomes and home-ground advantage** influence match results.  \n",
    "7. Developed the ability to **interpret numerical data** and translate it into actionable insights.  \n",
    "8. Improved analytical thinking by learning to **frame and answer data-driven questions** effectively.  \n"
   ]
  },
  {
   "cell_type": "markdown",
   "metadata": {},
   "source": [
    "### 🚀 Future Work  \n",
    "\n",
    "This analysis can be further extended in several ways:  \n",
    "\n",
    "1. **Interactive Visualizations**  \n",
    "   - Use tools like **Plotly** or **Tableau** to create dynamic dashboards for better exploration and storytelling.  \n",
    "\n",
    "2. **Predictive Modeling**  \n",
    "   - Build **machine learning models** to forecast:  \n",
    "     - Match outcomes  \n",
    "     - Top performers  \n",
    "     - Player form trends across multiple seasons  \n",
    "\n",
    "3. **Advanced Insights**  \n",
    "   - Develop a **team-wise performance dashboard** for comparative analysis.  \n",
    "   - Perform deeper **phase-wise breakdowns** (Powerplay, Middle overs, Death overs) to uncover strategic patterns.  \n",
    "\n",
    "✅ These enhancements would provide richer insights for **fans, analysts, and team strategists**, making the analysis both informative and actionable.  \n"
   ]
  },
  {
   "cell_type": "markdown",
   "metadata": {},
   "source": [
    "# References\n",
    "Dataset Source:\n",
    "IPL Complete Dataset (2008–2024) on Kaggle\n",
    "\n",
    "Python Libraries Used:\n",
    "\n",
    "Pandas (Data manipulation)\n",
    "NumPy (Numerical operations)\n",
    "Matplotlib & Seaborn (Data visualization)\n",
    "Pandas Profiling (Automated EDA reports)\n",
    "\n",
    "Documentation & Tutorials:\n",
    "Pandas Documentation\n",
    "Seaborn Documentation\n",
    "Matplotlib Documentation\n",
    "\n",
    "Kaggle Notebooks for reference and inspiration- \n",
    "https://www.kaggle.com/code/prasadposture121/exploratory-data-analysis-of-ipl-matches/notebook"
   ]
  },
  {
   "cell_type": "code",
   "execution_count": null,
   "metadata": {
    "trusted": true
   },
   "outputs": [],
   "source": []
  }
 ],
 "metadata": {
  "kaggle": {
   "accelerator": "none",
   "dataSources": [
    {
     "datasetId": 990900,
     "sourceId": 8637500,
     "sourceType": "datasetVersion"
    }
   ],
   "dockerImageVersionId": 31012,
   "isGpuEnabled": false,
   "isInternetEnabled": false,
   "language": "python",
   "sourceType": "notebook"
  },
  "kernelspec": {
   "display_name": "Python 3",
   "language": "python",
   "name": "python3"
  },
  "language_info": {
   "codemirror_mode": {
    "name": "ipython",
    "version": 3
   },
   "file_extension": ".py",
   "mimetype": "text/x-python",
   "name": "python",
   "nbconvert_exporter": "python",
   "pygments_lexer": "ipython3",
   "version": "3.12.0"
  }
 },
 "nbformat": 4,
 "nbformat_minor": 4
}
